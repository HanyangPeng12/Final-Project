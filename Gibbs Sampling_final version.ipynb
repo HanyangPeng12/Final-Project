{
 "cells": [
  {
   "cell_type": "markdown",
   "metadata": {},
   "source": [
    "# Stat 37810 Final Project - Gibbs Sampling"
   ]
  },
  {
   "cell_type": "markdown",
   "metadata": {},
   "source": [
    "### 1."
   ]
  },
  {
   "cell_type": "markdown",
   "metadata": {},
   "source": [
    "Let $p(x|y)=C_1ye^{-yx}, p(y|x)=C_2xe^{-xy}$, then because they are conditional distributions, so we can get that  \n",
    "$\\int_0^BC_1ye^{-yx}dx=1, \\int_0^BC_2xe^{-xy}dy=1$  \n",
    "$\\Rightarrow C_1=\\frac{1}{1-e^{-yB}}\\ ,\\ C_2=\\frac{1}{1-e^{-xB}}$"
   ]
  },
  {
   "cell_type": "markdown",
   "metadata": {},
   "source": [
    "So the CDF of these distributions are  \n",
    "$F_X(x)=\\int_0^x\\frac{1}{1-e^{-yB}}ye^{-yu}du=\\frac{1-e^{-yx}}{1-e^{-yB}}$  \n",
    "Similar, we get  \n",
    "$F_Y(y)=\\frac{1-e^{-yx}}{1-e^{-xB}}$  \n",
    "So the inverse of these CDF are:  \n",
    "$F_X^{-1}(u)=-\\frac{1}{y}log(1-u(1-e^{-yB}))$  \n",
    "$F_Y^{-1}(u)=-\\frac{1}{x}log(1-u(1-e^{-xB}))$"
   ]
  },
  {
   "cell_type": "markdown",
   "metadata": {},
   "source": [
    "So in this case, we can change the example sampler like this:  \n",
    "First, we will check if the input value is correct, both B and T should be larger than 0, T's type should be int, and B's type should be int of float.  \n",
    "Then, we create a T*2 Numpy matrix as the output matrix, the first column is X, and the second column is Y. After that, we set the start value of x and y (They can't be 0 because they are the denominators). For each loop, we generate different u's from Unif[0,1] and use Inverse Transform Sampling, which inverse function of CDF is calculated before, to generate the samples from the conditional distribution. We also set thin=1000 so we can get the sample more correctly.  \n",
    "Finally, we put the value of x and y in the output matrix. And we return the output matrix after the loop.  \n",
    "The code is showed below"
   ]
  },
  {
   "cell_type": "code",
   "execution_count": 1,
   "metadata": {
    "collapsed": true
   },
   "outputs": [],
   "source": [
    "import numpy as np\n",
    "import random,math\n",
    "import matplotlib.pyplot as plt "
   ]
  },
  {
   "cell_type": "code",
   "execution_count": 2,
   "metadata": {
    "collapsed": true
   },
   "outputs": [],
   "source": [
    "def gibbs(B=5.0,T=1000,thin=1000):\n",
    "    if(type(B)==int):  #change the type of B to float\n",
    "        B=float(B)\n",
    "    if(type(T)!=int or type(B)!=float or type(thin)!=int):  #check if we input the correct type\n",
    "        print(\"Wrong input type! B should be float(or int), T should be int, and thin should be int\")\n",
    "        return False\n",
    "    if(T<0): #check if the input T is correct\n",
    "        print(\"Wrong input! T should larger than 0\")\n",
    "        return False\n",
    "    if(B<0): #check if the input B is correct\n",
    "        print(\"Wrong input! B should larger than 0\")\n",
    "        return False\n",
    "    output=np.zeros((T,2)) #create the output matrix T*2\n",
    "    x=1 \n",
    "    y=1\n",
    "    # Set the start value of x and y\n",
    "    for i in range(T): \n",
    "        for j in range(thin):\n",
    "            u=random.uniform(0,1)\n",
    "            x=-1/y*math.log(1-u*(1-math.exp(-y*B)))\n",
    "            #u has to be sampled each time\n",
    "            u=random.uniform(0,1)\n",
    "            y=-1/x*math.log(1-u*(1-math.exp(-x*B)))\n",
    "            # using Gibbs sampling to get the samples we need\n",
    "        output[i,0]=x\n",
    "        output[i,1]=y\n",
    "        # save the value of x and y for each loop\n",
    "    return output\n"
   ]
  },
  {
   "cell_type": "markdown",
   "metadata": {},
   "source": [
    "Test for incorrect inputs:"
   ]
  },
  {
   "cell_type": "code",
   "execution_count": 3,
   "metadata": {},
   "outputs": [
    {
     "name": "stdout",
     "output_type": "stream",
     "text": [
      "Wrong input type! B should be float(or int), T should be int, and thin should be int\n",
      "Wrong input! T should larger than 0\n",
      "Wrong input! B should larger than 0\n"
     ]
    },
    {
     "data": {
      "text/plain": [
       "False"
      ]
     },
     "execution_count": 3,
     "metadata": {},
     "output_type": "execute_result"
    }
   ],
   "source": [
    "gibbs(B='a',T=500)\n",
    "gibbs(B=5.5,T=-100)\n",
    "gibbs(B=-5,T=100)"
   ]
  },
  {
   "cell_type": "markdown",
   "metadata": {},
   "source": [
    "### 2. \n",
    "According to the problem, let's set B=5 and T=500, 5000, 50000 seperately, and we use plt functions to plot the histogram of the values of X."
   ]
  },
  {
   "cell_type": "code",
   "execution_count": 4,
   "metadata": {
    "scrolled": true
   },
   "outputs": [
    {
     "data": {
      "image/png": "[encoded data removed]",
      "text/plain": [
       "<matplotlib.figure.Figure at 0x1ad7c7b4390>"
      ]
     },
     "metadata": {},
     "output_type": "display_data"
    }
   ],
   "source": [
    "#get the sample of different sample size and plot the historgram of the values of x\n",
    "output1=gibbs(B=5.0,T=500)\n",
    "plt.hist(output1[:,0],150)\n",
    "plt.xlabel(\"Value of X\")\n",
    "plt.ylabel(\"Numbers\")\n",
    "plt.show()"
   ]
  },
  {
   "cell_type": "code",
   "execution_count": 5,
   "metadata": {},
   "outputs": [
    {
     "data": {
      "image/png": "[encoded data removed]",
      "text/plain": [
       "<matplotlib.figure.Figure at 0x1ad7cbcc8d0>"
      ]
     },
     "metadata": {},
     "output_type": "display_data"
    }
   ],
   "source": [
    "output2=gibbs(B=5.0,T=5000)\n",
    "plt.hist(output2[:,0],150)\n",
    "plt.xlabel(\"Value of X\")\n",
    "plt.ylabel(\"Numbers\")\n",
    "plt.show()"
   ]
  },
  {
   "cell_type": "code",
   "execution_count": 6,
   "metadata": {},
   "outputs": [
    {
     "data": {
      "image/png": "[encoded data removed]",
      "text/plain": [
       "<matplotlib.figure.Figure at 0x1ad7d240978>"
      ]
     },
     "metadata": {},
     "output_type": "display_data"
    }
   ],
   "source": [
    "output3=gibbs(B=5.0,T=50000)\n",
    "plt.hist(output3[:,0],150)\n",
    "plt.xlabel(\"Value of X\")\n",
    "plt.ylabel(\"Numbers\")\n",
    "plt.show()"
   ]
  },
  {
   "cell_type": "markdown",
   "metadata": {},
   "source": [
    "We can see that with the increase of sample size, the histogram of values of x will be more smooth and similar to the exponential distribution."
   ]
  },
  {
   "cell_type": "markdown",
   "metadata": {},
   "source": [
    "### 3."
   ]
  },
  {
   "cell_type": "markdown",
   "metadata": {},
   "source": [
    "According to the sampler, we know that $E_{p(x)}[X]=\\int_0^B\\int_0^B xf(x,y)dxdy=\\int_0^B\\int_0^B xf(x,y)dydx=\\int_0^Bxf_X(x)dx$  \n",
    "Because in the sampler we get discrete values, so according to the Method of moments (or the Law of Large Numbers):  \n",
    "$E_{p(x)}(X)=\\bar{x}=\\frac{1}{T}\\sum_{i=1}^Tx_i$  \n",
    "So we can calculate the estimate of the expection of X with different sample sizes by calculate their means."
   ]
  },
  {
   "cell_type": "code",
   "execution_count": 7,
   "metadata": {
    "collapsed": true
   },
   "outputs": [],
   "source": [
    "# compute the mean value of output matrix of different sample sizes, and according to the method of moments, \n",
    "#they are the estimates of the expectation of X\n",
    "EX1=np.mean(output1[:,0])\n",
    "EX2=np.mean(output2[:,0])\n",
    "EX3=np.mean(output3[:,0])"
   ]
  },
  {
   "cell_type": "markdown",
   "metadata": {},
   "source": [
    "So we can see that the estimates of the expectation of X by using the 500, 5000, and 50000 samples from the samplers are"
   ]
  },
  {
   "cell_type": "code",
   "execution_count": 8,
   "metadata": {},
   "outputs": [
    {
     "name": "stdout",
     "output_type": "stream",
     "text": [
      "1.16141951207 , 1.26744417498 and 1.26260419724\n"
     ]
    }
   ],
   "source": [
    "print(EX1,\",\",EX2,\"and\",EX3)"
   ]
  },
  {
   "cell_type": "markdown",
   "metadata": {
    "collapsed": true
   },
   "source": [
    "According to the x and y's conditional distribution, we should think that their marginal distribution should be symmetric and probably alike. Let's use the cumfreq function in the scipy package to check whether they have similar cdf. "
   ]
  },
  {
   "cell_type": "code",
   "execution_count": 9,
   "metadata": {
    "collapsed": true
   },
   "outputs": [],
   "source": [
    "import scipy\n",
    "from scipy import stats\n",
    "from scipy.stats import cumfreq,ks_2samp\n",
    "\n",
    "x=np.arange(0,5,.01)"
   ]
  },
  {
   "cell_type": "code",
   "execution_count": 10,
   "metadata": {},
   "outputs": [
    {
     "data": {
      "image/png": "[encoded data removed]",
      "text/plain": [
       "<matplotlib.figure.Figure at 0x1ad7d998cc0>"
      ]
     },
     "metadata": {},
     "output_type": "display_data"
    }
   ],
   "source": [
    "out1=cumfreq(output1[:,0],numbins=len(x),defaultreallimits=[min(x),max(x)]).cumcount\n",
    "out1/=max(out1)\n",
    "plt.step(x,out1)\n",
    "out2=cumfreq(output1[:,1],numbins=len(x),defaultreallimits=[min(x),max(x)]).cumcount\n",
    "out2/=max(out2)\n",
    "plt.step(x,out2)\n",
    "plt.show()"
   ]
  },
  {
   "cell_type": "code",
   "execution_count": 11,
   "metadata": {},
   "outputs": [
    {
     "data": {
      "image/png": "[encoded data removed]",
      "text/plain": [
       "<matplotlib.figure.Figure at 0x1ad7d307f28>"
      ]
     },
     "metadata": {},
     "output_type": "display_data"
    }
   ],
   "source": [
    "out1=cumfreq(output2[:,0],numbins=len(x),defaultreallimits=[min(x),max(x)]).cumcount\n",
    "out1/=max(out1)\n",
    "plt.step(x,out1)\n",
    "out2=cumfreq(output2[:,1],numbins=len(x),defaultreallimits=[min(x),max(x)]).cumcount\n",
    "out2/=max(out2)\n",
    "plt.step(x,out2)\n",
    "plt.show()"
   ]
  },
  {
   "cell_type": "code",
   "execution_count": 12,
   "metadata": {},
   "outputs": [
    {
     "data": {
      "image/png": "[encoded data removed]",
      "text/plain": [
       "<matplotlib.figure.Figure at 0x1ad7cfab550>"
      ]
     },
     "metadata": {},
     "output_type": "display_data"
    }
   ],
   "source": [
    "out1=cumfreq(output3[:,0],numbins=len(x),defaultreallimits=[min(x),max(x)]).cumcount\n",
    "out1/=max(out1)\n",
    "plt.step(x,out1)\n",
    "out2=cumfreq(output3[:,1],numbins=len(x),defaultreallimits=[min(x),max(x)]).cumcount\n",
    "out2/=max(out2)\n",
    "plt.step(x,out2)\n",
    "plt.show()"
   ]
  },
  {
   "cell_type": "markdown",
   "metadata": {},
   "source": [
    "This time we can finally see that the cdf of x and y are similar. So the code may be finally right.  \n",
    "\n",
    "Also, we can use the ks_2samp() function to check whether x and y's distribution are similar. "
   ]
  },
  {
   "cell_type": "code",
   "execution_count": 14,
   "metadata": {},
   "outputs": [
    {
     "data": {
      "text/plain": [
       "Ks_2sampResult(statistic=0.080000000000000071, pvalue=0.077420340647895214)"
      ]
     },
     "execution_count": 14,
     "metadata": {},
     "output_type": "execute_result"
    }
   ],
   "source": [
    "ks_2samp(output1[:,0],output1[:,1])"
   ]
  },
  {
   "cell_type": "code",
   "execution_count": 15,
   "metadata": {},
   "outputs": [
    {
     "data": {
      "text/plain": [
       "Ks_2sampResult(statistic=0.01419999999999999, pvalue=0.69162117217812036)"
      ]
     },
     "execution_count": 15,
     "metadata": {},
     "output_type": "execute_result"
    }
   ],
   "source": [
    "ks_2samp(output2[:,0],output2[:,1])"
   ]
  },
  {
   "cell_type": "code",
   "execution_count": 16,
   "metadata": {},
   "outputs": [
    {
     "data": {
      "text/plain": [
       "Ks_2sampResult(statistic=0.0056399999999999784, pvalue=0.40324893559989317)"
      ]
     },
     "execution_count": 16,
     "metadata": {},
     "output_type": "execute_result"
    }
   ],
   "source": [
    "ks_2samp(output3[:,0],output3[:,1])"
   ]
  },
  {
   "cell_type": "markdown",
   "metadata": {},
   "source": [
    "We can see that with different values of T, the p-values are all larger than 0.05, so we can conclude that x and y's distribution are similar, so our code is correct."
   ]
  }
 ],
 "metadata": {
  "kernelspec": {
   "display_name": "Python 3",
   "language": "python",
   "name": "python3"
  },
  "language_info": {
   "codemirror_mode": {
    "name": "ipython",
    "version": 3
   },
   "file_extension": ".py",
   "mimetype": "text/x-python",
   "name": "python",
   "nbconvert_exporter": "python",
   "pygments_lexer": "ipython3",
   "version": "3.6.1"
  }
 },
 "nbformat": 4,
 "nbformat_minor": 2
}
